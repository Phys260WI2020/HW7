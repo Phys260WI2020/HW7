{
 "cells": [
  {
   "cell_type": "markdown",
   "metadata": {},
   "source": [
    "# Computer Homework 7: Simulating trajectories of charged particles in electric and magnetic fields\n",
    "\n",
    "## \"Preflight\" (8/10 points)\n",
    "\n",
    "#### Due at the beginning of class on Friday, Feb. 28 to receive the first 8/40 points on this assignment (you need to show you made a solid effort to work through the code, even if it is not fully functional - pseudo-code or comments describing what should go in there count).  The entire completed notebook is due by midnight on Wednesday March 11.  The next preflight of HW 8 will be posted on the evening of Tuesday March 10.\n",
    "\n",
    "In this excercise we will simulate how particles move in electric and magnetic fields. The charged particles will move in response to a force, which causes an acceleration, which in turn changes the velocity and position.  The motion will depend on the initial position and velocity. "
   ]
  },
  {
   "cell_type": "markdown",
   "metadata": {},
   "source": [
    "### Import the usual libraries"
   ]
  },
  {
   "cell_type": "code",
   "execution_count": 1,
   "metadata": {},
   "outputs": [],
   "source": [
    "import numpy as np                         # numpy is a library that includes most of the numerical function you will need\n",
    "import matplotlib.pyplot as plt            # this is the library we use to plot   \n",
    "from mpl_toolkits.mplot3d import Axes3D    # this is a library to plot in 3d"
   ]
  },
  {
   "cell_type": "markdown",
   "metadata": {},
   "source": [
    "In the last class, you created functions to calculate the force due to an electric field on a charge q, and the force due to a magnetic field on a charge q moving at velocity v:"
   ]
  },
  {
   "cell_type": "code",
   "execution_count": 2,
   "metadata": {},
   "outputs": [],
   "source": [
    "def calc_force_on_charge_by_efield(electric_field, q = 1) :\n",
    "    ''' We have one argument, and a key-word argument. The electric_field should look like a vector, \n",
    "    i.e. a numpy array with three elements. q has a DEFAULT value of 1 Coulomb'''\n",
    "    force = q*electric_field\n",
    "    return force\n",
    "\n",
    "def calc_force_on_charge_by_bfield(magnetic_field, charge_velocity, q = 1) :\n",
    "    ''' Fill out description of appropriate arguments and/or keyword arguments.  magnetic field and velocity also\n",
    "    need to be vectors, i.e. numpy arrays with three elements.  You will need to use np.cross\n",
    "    from above. '''\n",
    "    force = q*np.cross(charge_velocity, magnetic_field)\n",
    "    return force"
   ]
  },
  {
   "cell_type": "markdown",
   "metadata": {},
   "source": [
    "**Use both functions above in a new function**, acceleration_of_charge_in_ebfields, to calculate the acceleration on a charged particle in the presence of both an electric and magnetic field.  You may have done this in the \"bonus\" step of the last lab if you had extra time."
   ]
  },
  {
   "cell_type": "code",
   "execution_count": 3,
   "metadata": {},
   "outputs": [],
   "source": [
    "def calc_acceleration_of_charge_in_ebfields(electric_field, magnetic_field, charge_velocity, q, m) :\n",
    "    ''' Calculate the acceleration of a charge in both electric and magnetic fields.  electric_field, magnetic_field,\n",
    "    charge_velocity should all be vector-looking, i.e. numpy arrays with three elements'''\n",
    "    \n",
    "    acceleration = q*(electric_field+np.cross(charge_velocity,\n",
    "                                              magnetic_field))/m\n",
    "    acceleration = (calc_force_on_charge_by_efield(electric_field,q) + \\\n",
    "                    calc_force_on_charge_by_bfield(magnetic_field, charge_velocity, q))/m\n",
    "    return acceleration"
   ]
  },
  {
   "cell_type": "code",
   "execution_count": 4,
   "metadata": {},
   "outputs": [
    {
     "data": {
      "text/plain": [
       "array([1., 0., 0.])"
      ]
     },
     "execution_count": 4,
     "metadata": {},
     "output_type": "execute_result"
    }
   ],
   "source": [
    "calc_acceleration_of_charge_in_ebfields(np.array([1,0,0]), np.array([1,0,0]), np.array([1,0,0]),\n",
    "                                       1, 1)"
   ]
  },
  {
   "cell_type": "markdown",
   "metadata": {},
   "source": [
    "Note, the `calc_force_on_charge_by_?` functions above require a vector for the electric or magnetic field.  These, however, may vary depending on the charged particle's position.  For example, in the electric field due to a point charge, the field has a $1/r^2$ dependence.  \n",
    "\n",
    "Below, we write example functions to return the electric and magnetic fields that are parallel to the x-axis.  In this simplified case, the electric and magnetic fields are independent of the charged particle position.  We will later write an example where this is *not* the case"
   ]
  },
  {
   "cell_type": "code",
   "execution_count": 5,
   "metadata": {},
   "outputs": [],
   "source": [
    "# Functions to return e-field and b-field at a point.\n",
    "#  Generalizes for non-constant e and b-fields --> Outputs the input to the calc_force_on_charge_by_????\n",
    "\n",
    "def constant_electric_x_field(charge_position) :\n",
    "    ''' This is a test where $\\vec{E} = [1, 0, 0]$'''\n",
    "    return np.array([1,0,0])\n",
    "\n",
    "def constant_magnetic_x_field(charge_position) :\n",
    "    ''' This is a test where $\\vec{B} = [1, 0, 0]$'''\n",
    "    return np.array([1,0,0])"
   ]
  },
  {
   "cell_type": "markdown",
   "metadata": {},
   "source": [
    "Here, we test that the electric field is constant regardless of a charge's position, and also print the force due to that electric field.  This is a bit of a trivial test because the constant electric field is constant (independent of position) by construction."
   ]
  },
  {
   "cell_type": "code",
   "execution_count": 6,
   "metadata": {},
   "outputs": [],
   "source": [
    "def test_constant_electric_x_field() :\n",
    "    ''' Note, we do not necessarily need arguments for a function to work! '''\n",
    "\n",
    "    #  Choose two particle positions to compare\n",
    "    charge_position_1 = np.array([0,0,0])\n",
    "    charge_position_2 = np.array([0,0,1])\n",
    "\n",
    "    #  Test if the electric field is indeed constant at both positions\n",
    "    efield_at_pos1 = constant_electric_x_field(charge_position_1) \n",
    "    efield_at_pos2 = constant_electric_x_field(charge_position_2)\n",
    "\n",
    "    #  Check force on an electron at each position\n",
    "    print('Force due to constant electric field at position 1: ')\n",
    "    print(calc_force_on_charge_by_efield(efield_at_pos1))\n",
    "    \n",
    "    print(' Is the e-field the same at both positions? If yes, no error message will appear.') \n",
    "    # This assert statement is the crux of the test.  If the boolean fails (False), the test will fail.\n",
    "    np.testing.assert_array_equal(efield_at_pos1, efield_at_pos2)  \n"
   ]
  },
  {
   "cell_type": "code",
   "execution_count": 7,
   "metadata": {},
   "outputs": [
    {
     "name": "stdout",
     "output_type": "stream",
     "text": [
      "Force due to constant electric field at position 1: \n",
      "[1 0 0]\n",
      " Is the e-field the same at both positions? If yes, no error message will appear.\n"
     ]
    }
   ],
   "source": [
    "test_constant_electric_x_field()"
   ]
  },
  {
   "cell_type": "markdown",
   "metadata": {},
   "source": [
    "In general, the electric and/or magnetic fields may depend on the position of the particle.\n",
    "\n",
    "**Write your own function** in the cell below that returns a magnetic field that increases linearly with the z position of a charged particle,\n",
    "\\begin{eqnarray}\n",
    "\\vec{B} = B_0z\\hat{z},\n",
    "\\end{eqnarray}\n",
    "where $B_0=0.1$T/m (so $B_0z$ has units of T, as a magnetic field should)."
   ]
  },
  {
   "cell_type": "code",
   "execution_count": 8,
   "metadata": {},
   "outputs": [],
   "source": [
    "def linearly_increasing_bfield(charge_position) :\n",
    "    '''This outputs a magnetic field that happens to linearly increase with z.  Note, this does not obey Maxwell's \n",
    "    equations, but starts what you will need to define for the last part of the assignment.'''\n",
    "    z = charge_position[2]\n",
    "    bfield = np.array([0,0,0.1*z])\n",
    "    return bfield"
   ]
  },
  {
   "cell_type": "markdown",
   "metadata": {},
   "source": [
    "**Bonus**:  Write your own test_linearly_increasing_bfield function that asserts that the B field at [0,0,1] is smaller than the B field at [0,0,2].  Hint:  You could try using `np.testing.assert_array_less` (https://docs.scipy.org/doc/numpy-1.10.0/reference/generated/numpy.testing.assert_array_less.html)"
   ]
  },
  {
   "cell_type": "code",
   "execution_count": 9,
   "metadata": {},
   "outputs": [],
   "source": [
    "#  Bonus function here\n",
    "def test_linearly_increasing_bfield() :\n",
    "    '''Tests that B-field at [0,0,1] is smaller than the B field at [0,0,2]'''\n",
    "    #  Your code here (You'll need to just compare the z value because numpy function is element-by-element)\n",
    "    pos1 = np.array([0,0,1])\n",
    "    pos2 = np.array([0,0,2])\n",
    "    \n",
    "    bfield1 = linearly_increasing_bfield(pos1)\n",
    "    bfield2 = linearly_increasing_bfield(pos2)\n",
    "    \n",
    "    np.testing.assert_array_less(bfield1[2],bfield2[2])\n",
    "    \n",
    "    return"
   ]
  },
  {
   "cell_type": "code",
   "execution_count": 10,
   "metadata": {},
   "outputs": [],
   "source": [
    "test_linearly_increasing_bfield()"
   ]
  },
  {
   "cell_type": "markdown",
   "metadata": {},
   "source": [
    "#### Analogous to your computer assignments on circuits, we have a change in position and a change in velocity, \n",
    "\\begin{eqnarray}\n",
    "\\frac{d\\vec{x}}{dt}&=&\\vec{v}\\\\\n",
    "\\frac{d\\vec{v}}{dt}&=&\\vec{a}\n",
    "\\end{eqnarray}\n",
    "So, if we were to use Euler's method to update the next ith step, is based on the i-1th step as:\n",
    "\\begin{eqnarray}\n",
    "\\vec{x}_i&+=&\\frac{d\\vec{x}_{i-1}}{dt}\\times dt\\\\\n",
    "&=&\\vec{v}_{i-1}\\times dt\\\\\n",
    "\\vec{v}_i&+=&\\frac{d\\vec{v}_{i-1}}{dt}\\times dt\\\\\n",
    "&=&\\vec{a}_{i-1}\\times dt\n",
    "\\end{eqnarray}"
   ]
  },
  {
   "cell_type": "code",
   "execution_count": 11,
   "metadata": {},
   "outputs": [
    {
     "name": "stdout",
     "output_type": "stream",
     "text": [
      "0\n",
      "1\n",
      "1\n",
      "2\n",
      "2\n",
      "3\n",
      "3\n",
      "4\n",
      "4\n",
      "5\n"
     ]
    }
   ],
   "source": [
    "for inum in np.arange(5) :\n",
    "    print(inum)\n",
    "    inum += 1\n",
    "    print(inum)\n",
    "    \n",
    "#  Note, += is the same as i = i+??"
   ]
  },
  {
   "cell_type": "markdown",
   "metadata": {},
   "source": [
    "The vector $\\vec{v}_{i-1}$ is the rate of change of $\\vec{x}_{i-1}$ to get the updated $\\vec{x}_i$.  Similarly, the vector $\\vec{a}_{i-1}$ is the rate of change of $\\vec{v}_{i-1}$ to get the updated $\\vec{v}_i$.\n",
    "\n",
    "**Write a function** called get_updated_value that takes in a current_value, rate_of_change and dt, and returns the updated value.  This should work for getting the updated position and the updated velocity."
   ]
  },
  {
   "cell_type": "code",
   "execution_count": 12,
   "metadata": {},
   "outputs": [],
   "source": [
    "def get_updated_value(current_value, rate_of_change, dt) :\n",
    "    updated_value = current_value+rate_of_change*dt\n",
    "    return updated_value"
   ]
  },
  {
   "cell_type": "markdown",
   "metadata": {},
   "source": [
    "For Euler's method, the `rate_of_change` is simply the particle's **current velocity** and acceleration due to the electric and magnetic fields due to the particle's **current position and velocity**.  In class, we will discuss an alternative method to calculate the rate of change called the Runge-Kutta method.  "
   ]
  },
  {
   "cell_type": "code",
   "execution_count": 13,
   "metadata": {},
   "outputs": [],
   "source": [
    "def get_rates_of_change_euler(particle_position, particle_velocity, electric_field_function,\n",
    "                                        magnetic_field_function, q, m, dt) :\n",
    "    '''When using Euler's method, the rates of change are simply the particle_velocity, and the acceleration\n",
    "    due to the electric and magnetic field at that particle_position.  While this does not depend on dt, \n",
    "    we will keep it as an argument for parallels with the Runge-Kutta method'''\n",
    "    \n",
    "    electric_field_at_position = electric_field_function(particle_position)\n",
    "    magnetic_field_at_position = magnetic_field_function(particle_position)\n",
    "    \n",
    "    particle_acceleration = calc_acceleration_of_charge_in_ebfields(electric_field_at_position, \n",
    "                                                                    magnetic_field_at_position, \n",
    "                                                                        particle_velocity, q, m)\n",
    "    return particle_velocity, particle_acceleration"
   ]
  },
  {
   "cell_type": "markdown",
   "metadata": {},
   "source": [
    "#### Now that you can get the position and the velocity for any given timestep, let's set up a trajectory calculation!\n",
    "\n",
    "To calculate the trajectory, we will need \n",
    "- Initial conditions, \n",
    "- Empty position and perhaps velocity arrays to populate (we will want to return these)\n",
    "- Timesteps at which we will calculate the trajectory segments\n",
    "- A loop to iterate through to use Euler's method to calculate values at the next timestep.\n",
    "\n",
    "**Our goals at the end of this pre-flight** is to have a reasonable `calc_trajectory_in_fields` function for a non-time evolving $\\vec{E}$ and $\\vec{B}$ field, and to test this with *just* an electric field parallel to the x-axis, and *just* a magnetic field parallel to the x-axis. "
   ]
  },
  {
   "cell_type": "markdown",
   "metadata": {},
   "source": [
    "First, **define your initial conditions** and reasonable timestepping to test the function.  For the test, let us say our initial position is at the origin, $\\vec{x}_0=[0,0,0]$, and our test particle is going parallel to the y-axis, $\\vec{v}_0=[0,1,0]$.  Let us also assume we iterate from $t=0$s to $t=50$s, with 10,000 timesteps.  You'll need to calculate the correpsonding $dt$ to **define your timesteps array**."
   ]
  },
  {
   "cell_type": "code",
   "execution_count": 39,
   "metadata": {},
   "outputs": [
    {
     "data": {
      "text/plain": [
       "(10000, 3)"
      ]
     },
     "execution_count": 39,
     "metadata": {},
     "output_type": "execute_result"
    }
   ],
   "source": [
    "# Your code here:\n",
    "initial_position = np.array([0,0,0])\n",
    "initial_velocity = np.array([0,1,0])\n",
    "timesteps = np.arange(0,50,0.005)\n",
    "timesteps.shape\n",
    "\n",
    "#  This is what we have generically done in the past, but for placeholders of current (or charge),\n",
    "#    we used np.zeros(timesteps.shape), where timesteps.shape is a tuple.  Below, (timesteps.size,3) is the \n",
    "#    tuple that describes the shape we want to input to position_evolution.  The function below generalizes this\n",
    "#     so we can use the same thing for both position_evolution and velocity_evolution.\n",
    "position_evolution = np.zeros((timesteps.size,3))\n",
    "position_evolution.shape"
   ]
  },
  {
   "cell_type": "markdown",
   "metadata": {},
   "source": [
    "Now, **write a function** that outputs the place-holder arrays for either position_evolution and velocity_evolution.  These will be populated in each loop iteration, so we may as well fill them with zeros.  Note, you will want an x, y, z and a vx, vy, vz for each timestep in your timesteps array.  So, your shape of your position_evolution array will be the same as your velocity_evolution array.  \n",
    "*Hint*:  See the array slicing section of the hw7_python_practice from the last class to see what this might look like."
   ]
  },
  {
   "cell_type": "code",
   "execution_count": 15,
   "metadata": {},
   "outputs": [],
   "source": [
    "#  Your code here:\n",
    "def create_place_holder_array(timesteps) :\n",
    "    ''' Returns a placeholder array '''\n",
    "\n",
    "    return np.zeros((timesteps.size,3))"
   ]
  },
  {
   "cell_type": "markdown",
   "metadata": {},
   "source": [
    "We now have all of the ingredients for our trajectory calculation.  \n",
    "\n",
    "Assuming you did all of the above steps, the following `calc_trajectory_in_fields` should work.  You'll notice that there are **functions as arguments**!  This allows you to have more generalized code to calculate the trajectory in fields.  One of the input arguments that is a function is get_updated_value_function.  For now, we will use `get_updated_value_euler`.  There is a more accurate way to update values, which we will discuss in class"
   ]
  },
  {
   "cell_type": "code",
   "execution_count": 16,
   "metadata": {},
   "outputs": [],
   "source": [
    "def calc_trajectory_in_fields(electric_field_function, magnetic_field_function, get_rates_of_change_function, \n",
    "                              timesteps, particle_position, particle_velocity, q = 1, m=1) :\n",
    "    '''This function takes in functions that output the electric (and magnetic) fields functions with an argument of particle\n",
    "    position.  This also requires as an argument the timesteps you wish to iterate over, and the \n",
    "    initial conditions, of the particle_position and particle_velocity it starts out with.  The charge and mass are optional\n",
    "    (key word arguments).'''\n",
    "    \n",
    "    # Create place holder arrays\n",
    "    position_evolution = create_place_holder_array(timesteps)\n",
    "    velocity_evolution = create_place_holder_array(timesteps)\n",
    "    \n",
    "    dt = timesteps[1]  # timesteps looks like np.array([0, dt, 2*dt, 3*dt, ...., (total_timesteps-1)*dt])\n",
    "    for inum, timestep in enumerate(timesteps) :\n",
    "        # Populate\n",
    "        position_evolution[inum,:] = particle_position\n",
    "        velocity_evolution[inum,:] = particle_velocity\n",
    "        \n",
    "        # Calculate velocity and acceleration due to e- and b-fields to update particle_position and particle_velocity\n",
    "        position_rate_of_change, velocity_rate_of_change = \\\n",
    "            get_rates_of_change_function(particle_position, particle_velocity, electric_field_function,\n",
    "                                        magnetic_field_function, q, m, dt)\n",
    "        \n",
    "        # Update\n",
    "        particle_position = get_updated_value(particle_position, position_rate_of_change, dt)\n",
    "        particle_velocity = get_updated_value(particle_velocity, velocity_rate_of_change, dt)\n",
    "        \n",
    "    return position_evolution, velocity_evolution\n",
    "        "
   ]
  },
  {
   "cell_type": "markdown",
   "metadata": {},
   "source": [
    "**Check the output** of your `calc_trajectory_in_fields` for an electron in the constant electric field and constant magnetic field functions from before, the timesteps you've defined, and your get_updated_value_euler function as the function to update your position and velocity. "
   ]
  },
  {
   "cell_type": "code",
   "execution_count": 17,
   "metadata": {},
   "outputs": [
    {
     "data": {
      "text/plain": [
       "(10000, 3)"
      ]
     },
     "execution_count": 17,
     "metadata": {},
     "output_type": "execute_result"
    }
   ],
   "source": [
    "# Check output here\n",
    "trajectory_evolution, velocity_evolution = calc_trajectory_in_fields(constant_electric_x_field, constant_magnetic_x_field,\n",
    "                         get_rates_of_change_euler, timesteps, initial_position, initial_velocity)\n",
    "\n",
    "# There is a vx, vy, vz value for every timestep here:\n",
    "velocity_evolution.shape"
   ]
  },
  {
   "cell_type": "markdown",
   "metadata": {},
   "source": [
    "**Plot your output** in the cell below.  "
   ]
  },
  {
   "cell_type": "code",
   "execution_count": 18,
   "metadata": {},
   "outputs": [
    {
     "data": {
      "text/plain": [
       "[<matplotlib.lines.Line2D at 0x7f6606678240>]"
      ]
     },
     "execution_count": 18,
     "metadata": {},
     "output_type": "execute_result"
    },
    {
     "data": {
      "image/png": "[encoded data removed]",
      "text/plain": [
       "<Figure size 432x288 with 1 Axes>"
      ]
     },
     "metadata": {},
     "output_type": "display_data"
    }
   ],
   "source": [
    "# How do I access just the z trajectory?\n",
    "plt.plot(timesteps, trajectory_evolution[:,2])"
   ]
  },
  {
   "cell_type": "markdown",
   "metadata": {},
   "source": [
    "**This is where your \"pre-flight\" ends.**  Note, your pre-flight completion is simply a check that you made a solid effort to start the assignment, but not everything needs to be debugged.  You will receive 10 out of the 40 points for making a *solid effort* to get some code working (or skeleton code that makes sense).   We will spend the first 10 minutes of the next in-class lab making sure folks have the above \"fill in code\" pieces working.  \n",
    "\n",
    "**-------------------------------------------------------------------------------------------------------------------------------------------------------------------------------------------------------**\n",
    "\n",
    "## Below is the official \"assignment\", but you will need to get the above working before you can run and continue in-flight.\n",
    "\n",
    "**Class time on Friday 2/28**: \n",
    "- 10-15 minutes: Go through the pre-flight\n",
    "- 5 minutes: Write `constant_magnetic_y_field` for part 2\n",
    "- 5 minutes: `Execute calc_trajectory_in_fields` with appropriate arguments for part 2\n",
    "- 10 minutes:  Discuss the Runge-Kutta method.\n",
    "- 15 minutes:  Continue working in class with peers and instructors as help"
   ]
  },
  {
   "cell_type": "markdown",
   "metadata": {},
   "source": [
    "## Example 1: Particle in a parallel E and B field\n",
    "\n",
    "The pre-flight set-up simulates the trajectory of an electron in an electric and magnetic field that happen to be parallel.  Note, that the initial velocity (in the y-direction) is perpendicular to the fields.  You will need to generate additional plots to answer the discussion questions below.  "
   ]
  },
  {
   "cell_type": "markdown",
   "metadata": {},
   "source": [
    "## Part 1 (8/40 points)  discussion questions with supporting plots:\n",
    "\n",
    "### Fill out your descriptions in this markdown cell, and your code with plots in cells below.\n",
    "\n",
    "#### (1) Describe the trajectory of the electron you saw from the pre-flight and explain the behavior (e.g. if you see circular and/or translational motion, why?).\n",
    "\n",
    "#### (2) Plot the kinetic energy of the particle as a function of time.  Note, you can calculate this from the returned output velocity_evolution. Describe and explain the behavior of the kinetic energy as a function of time.\n",
    "\n",
    "#### (3) Create a new function, `constant_doubled_electric_x_field` with electric field being $\\vec{E}=[2,0,0]$, and use this to overplot the trajectory with the first trajectory.  Describe what happens when you double the strength of the E-field.\n",
    "\n",
    "#### (4) Create a new function, `constant_doubled_magnetic_x_field` with magnetic field being $\\vec{B}=[2,0,0]$, and use this to overplot on the previous trajectories.  Describe what happens when you double the strength of the B-field.\n"
   ]
  },
  {
   "cell_type": "code",
   "execution_count": 19,
   "metadata": {},
   "outputs": [],
   "source": [
    "#  Plot kinetic energy here"
   ]
  },
  {
   "cell_type": "code",
   "execution_count": 20,
   "metadata": {},
   "outputs": [],
   "source": [
    "def constant_doubled_electric_x_field(particle_position) :\n",
    "    # Your code including docstrings here\n",
    "    return"
   ]
  },
  {
   "cell_type": "code",
   "execution_count": 21,
   "metadata": {},
   "outputs": [],
   "source": [
    "def constant_doubled_magnetic_x_field(particle_position) :\n",
    "    # Your code including docstrings here\n",
    "    return"
   ]
  },
  {
   "cell_type": "code",
   "execution_count": 22,
   "metadata": {},
   "outputs": [],
   "source": [
    "# Plot the trajectories (hint: need a 3-d plot -- refer to the hw7_python_practice if you need a reminder)\n",
    "#  You should overplot the original trajectory, the trajectory with a doubled electric field only,\n",
    "#   and the trajectory with a doubled magnetic field only to isolate the effects.\n",
    "#    Additional hint:  You'll need to execute the function `calc_trajectory_in_fields` three separate times for \n",
    "#      the different E and B field set ups that you are comparing."
   ]
  },
  {
   "cell_type": "markdown",
   "metadata": {},
   "source": [
    "## Example 2: Particle in a crossed E and B field\n",
    "\n",
    "This simulation simulates the trajectory of an electron in an electric and magnetic field that happen to be perpendicular, with $\\vec{E}=[1,0,0]$ and $\\vec{B}=[0,1,0]$.  \n",
    "- You will need to **write** a new (but very similar) function `constant_magnetic_y_field`.  \n",
    "- The particle starts from rest, the **initial conditions for particle_velocity** will also differ from Example 1.  \n",
    "- **Execute the function calc_particle_trajectory_in_field** with the appropriate arguments (including newly defined functions) to get the position_evolution and the velocity_evolution in this E and B field set-up.  These will allow you to generate the graphs needed for the discussion questions below."
   ]
  },
  {
   "cell_type": "markdown",
   "metadata": {
    "collapsed": true
   },
   "source": [
    "## Part 2 (8/40 points)  discussion questions:\n",
    "\n",
    "### Fill out your descriptions in this markdown cell, and your code with plots in cells below.\n",
    "\n",
    "#### (1) Explain why the trajectory looks the way it does.\n",
    "\n",
    "#### (2) Explain why the kinetic energy look the way it does.\n",
    "\n",
    "\n",
    "#### (3) Describe what happens when you double the strength of the E-field.  \n",
    "\n",
    "\n",
    "#### (4) Describe what happens when you double the strength of the B-field.  You'll need a new function for this as well.\n"
   ]
  },
  {
   "cell_type": "code",
   "execution_count": 23,
   "metadata": {},
   "outputs": [],
   "source": [
    "def constant_magnetic_y_field(particle_position) :\n",
    "    # Your code here\n",
    "    return"
   ]
  },
  {
   "cell_type": "code",
   "execution_count": 24,
   "metadata": {},
   "outputs": [],
   "source": [
    "def constant_doubled_magnetic_y_field(particle_position) :\n",
    "    # Your code here\n",
    "    return"
   ]
  },
  {
   "cell_type": "code",
   "execution_count": 25,
   "metadata": {},
   "outputs": [],
   "source": [
    "# Define your initial conditions (i.e. particle_position and particle_velocity here)"
   ]
  },
  {
   "cell_type": "code",
   "execution_count": 26,
   "metadata": {},
   "outputs": [],
   "source": [
    "# Calculate your trajectories here (e.g. with `calc_trajectory_in_fields`)"
   ]
  },
  {
   "cell_type": "code",
   "execution_count": 27,
   "metadata": {},
   "outputs": [],
   "source": [
    "# Plot your trajectory here, overplotting the three in a 3-d plot"
   ]
  },
  {
   "cell_type": "code",
   "execution_count": 28,
   "metadata": {},
   "outputs": [],
   "source": [
    "# Plot your kinetic energy of the electron here in all three cases"
   ]
  },
  {
   "cell_type": "markdown",
   "metadata": {},
   "source": [
    "## Part 3 (8/40 points): The velocity filter\n",
    "   \n",
    "\n",
    "Consider a particle with charge 1 C and mass 1 kg moving with velocity $v = (1~\\mathrm{m/s})~\\hat x$.  If this particle enters a region with a magnetic field $B = (1~\\mathrm{T})~\\hat y$, then clearly it will experience a force.   You can calculate it by hand quite easily.    You could then create an electric field to perfectly oppose this magnetic force.   If you set up this field configuration you would have a \"velocity filter.\" \n",
    "\n",
    "#### (1) Calculate, by hand, the magnitude of the E field you need to oppose the B field described above, and create the appropriate function:\n",
    "`velocity_filtering_electric_field`. \n",
    "\n",
    "\n",
    "#### (2) Calculate the trajectory using your function `calc_trajectory_in_fields`.  Show that your calculation from (1) was correct.\n",
    "\n",
    "#### (3) Overplot the trajectory of particles with a velocity twice as fast and half as fast as what you found above.  Discuss why the trajectories look as they do.\n",
    "\n"
   ]
  },
  {
   "cell_type": "markdown",
   "metadata": {},
   "source": [
    "(1) Write your equations here.\n",
    "\n"
   ]
  },
  {
   "cell_type": "code",
   "execution_count": 29,
   "metadata": {},
   "outputs": [],
   "source": [
    "def velocity_filtering_electric_field(particle_position) :\n",
    "    ''' Note, you still do not need to use particle_position here.'''\n",
    "    # Your code here\n",
    "    return"
   ]
  },
  {
   "cell_type": "code",
   "execution_count": 30,
   "metadata": {},
   "outputs": [],
   "source": [
    "# Plot your trajectory here"
   ]
  },
  {
   "cell_type": "markdown",
   "metadata": {},
   "source": [
    "*Discuss* why the above plot shows that your calculation was correct."
   ]
  },
  {
   "cell_type": "code",
   "execution_count": 31,
   "metadata": {},
   "outputs": [],
   "source": [
    "# Define the other two initial particle velocities here (twice as fast and half as fast)"
   ]
  },
  {
   "cell_type": "code",
   "execution_count": 32,
   "metadata": {},
   "outputs": [],
   "source": [
    "# Plot all three trajectories here"
   ]
  },
  {
   "cell_type": "markdown",
   "metadata": {},
   "source": [
    "**Discussion** here."
   ]
  },
  {
   "cell_type": "markdown",
   "metadata": {},
   "source": [
    "## Part 4 (8/40 points): Motion in non-uniform magnetic field\n",
    "For this problem the magnetic field will not be uniform, instead it is going to be changing as a function of position.  The magnetic field in cylindrical coordinates is:\n",
    "\\begin{equation}\n",
    " B(r,\\phi,z) = - \\frac {B_0} {2} r \\hat{r} + (B_0z+B_1)\\hat{z}\n",
    "\\end{equation}\n",
    "\n",
    "That is the the magnitude of the field is changing in $z$ and $r$, but is not changing in $\\phi$.  You should make $B_1$ about 10 times as big as $B_1$, that is if $B_1$ is 1 T then $B_1$ should be 0.1 T/m, as in the example during the pre-flight.\n",
    "\n",
    "Take the electric field to be zero.\n",
    "\n",
    "In case you are curious... yes, this is a field that obeys Maxwell's equations. Such a field could not really fill all space... it blows up as $r\\rightarrow\\infty$. However, this field could exist inside a long, cylindrical coil of wire (a solenoid) where the number of turns per meter is increasing linearly. Such fields are sometimes used at particle accelerators to guide beams of charged particles.\n",
    "\n",
    "### 1) Rewrite the B-field in cartesian coordinates.\n",
    "**Write your cartesian equation here**\n",
    "\n",
    "### 2) Calculate the trajectory for a particle moving in this field.  You will need to now write a function \n",
    "`solenoid_magnetic_field` \n",
    "### where the returned magnetic field *does* depend on the particle_position that was input as an argument.  \n",
    "\n",
    "### 3) Explore the effects of changing the integration method with the Runge-Kutta method discussed in class. Mainly, compare how the kinetic energy changes with time when using Euler's method to calculate the position and velocity evolution, and how the kinetic energy changes with the Runge-Kutta method.\n"
   ]
  },
  {
   "cell_type": "code",
   "execution_count": 33,
   "metadata": {},
   "outputs": [],
   "source": [
    "# Your new function here\n",
    "def solenoid_magnetic_field(particle_position) :\n",
    "    ''' Add your docstrings here '''\n",
    "    #  Code here\n",
    "    return"
   ]
  },
  {
   "cell_type": "code",
   "execution_count": 34,
   "metadata": {},
   "outputs": [],
   "source": [
    "#  Plot trajectory of your particle here using the Euler method"
   ]
  },
  {
   "cell_type": "code",
   "execution_count": 35,
   "metadata": {},
   "outputs": [],
   "source": [
    "#  Plot the kinetic energy of your particle here using the velocities updated with the Euler method."
   ]
  },
  {
   "cell_type": "markdown",
   "metadata": {},
   "source": [
    "## Runge-Kutta method:  Discuss in class\n",
    "Below is a function that does the next-best-thing to the Euler method.  This is the Runge-Kutta method, that essentially uses values in between sampled points to get a better updated value.  You may remember approximating integrals (area under a curve) with right and left sum, then using the mid-point, then finally using the trapezoid method.  That is essentially what we are doing here: https://www.khanacademy.org/math/ap-calculus-ab/ab-integration-new/ab-6-2/a/riemann-sums-review\n",
    "\n",
    "The Runge-Kutta method does the following:\n",
    "\n",
    "- Use the acceleration due to the fields at the current position to figure out a $\\vec{v}_{i+1/2}=\\vec{v}_{i}+\\Delta\\vec{v}_{i+1/2}$, or the change in velocity over half a time-step (e.g. between timestep $i$ and timestep $i+1$).\n",
    "\n",
    "- Use the updated velocity (over the half a time-step) to find the new particle position in half a time-step, $\\vec{x}_{i+1/2}\\vec{x}_i+\\Delta\\vec{x}_{i+1/2}$.  \n",
    "\n",
    "- Use the electric and magnetic fields at $\\vec{x}_{i+1/2}$ for a particle with velocity $\\vec{v}_{i+1/2}$ to calculate the half time-step acceleration, $\\vec{a}_{i+1/2}$ that will be used to actually update the velocity for $\\vec{v}_{i+1}$.  We also use the half time-step velocity $\\vec{v}_{i+1/2}$ to update the position for $\\vec{x}_{i+1}$."
   ]
  },
  {
   "cell_type": "code",
   "execution_count": 36,
   "metadata": {},
   "outputs": [],
   "source": [
    "def get_rates_of_change_runge_kutta(particle_position, particle_velocity, electric_field_function,\n",
    "                                        magnetic_field_function, q, m, dt) :\n",
    "    ''' This uses the Runge-Kutta method to calculate the updated value.  This method relies on mid-points.\n",
    "    Note, this method can replace get_rates_of_change_euler in the argument, get_rates_of_change_function, that\n",
    "    is input to calc_trajectory_in_fields'''\n",
    "\n",
    "    current_velocity, current_acceleration = get_rates_of_change_euler(particle_position, particle_velocity, electric_field_function,\n",
    "                                        magnetic_field_function, q, m, dt)\n",
    "    \n",
    "    mid_particle_velocity = current_velocity + current_acceleration * dt/2\n",
    "    mid_particle_position = particle_position + mid_particle_velocity * dt/2\n",
    "    \n",
    "    # Calculate the acceleration due to the electric and magnetic fields at the mid_particle_position\n",
    "    runge_kutta_velocity, runge_kutta_acceleration = get_rates_of_change_euler(mid_particle_position, mid_particle_velocity,\n",
    "                                                                        electric_field_function,\n",
    "                                                                        magnetic_field_function, q, m, dt)\n",
    "    return runge_kutta_velocity, runge_kutta_acceleration"
   ]
  },
  {
   "cell_type": "code",
   "execution_count": 37,
   "metadata": {},
   "outputs": [],
   "source": [
    "#  Plot trajectory of your particle here using the Runge-Kutta method"
   ]
  },
  {
   "cell_type": "code",
   "execution_count": 38,
   "metadata": {},
   "outputs": [],
   "source": [
    "#  Plot the kinetic energy of the particle using the velocities updated using the Runge-Kutta method."
   ]
  }
 ],
 "metadata": {
  "kernelspec": {
   "display_name": "Python 3",
   "language": "python",
   "name": "python3"
  },
  "language_info": {
   "codemirror_mode": {
    "name": "ipython",
    "version": 3
   },
   "file_extension": ".py",
   "mimetype": "text/x-python",
   "name": "python",
   "nbconvert_exporter": "python",
   "pygments_lexer": "ipython3",
   "version": "3.6.5"
  }
 },
 "nbformat": 4,
 "nbformat_minor": 1
}
